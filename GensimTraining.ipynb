{
  "nbformat": 4,
  "nbformat_minor": 0,
  "metadata": {
    "colab": {
      "name": "GensimTraining.ipynb",
      "provenance": [],
      "collapsed_sections": [],
      "authorship_tag": "ABX9TyPycB68D6jwvIeJEYaWnfvb",
      "include_colab_link": true
    },
    "kernelspec": {
      "name": "python3",
      "display_name": "Python 3"
    }
  },
  "cells": [
    {
      "cell_type": "markdown",
      "metadata": {
        "id": "view-in-github",
        "colab_type": "text"
      },
      "source": [
        "<a href=\"https://colab.research.google.com/github/harikrishnareddymallavarapu/DeepAndNLP/blob/master/GensimTraining.ipynb\" target=\"_parent\"><img src=\"https://colab.research.google.com/assets/colab-badge.svg\" alt=\"Open In Colab\"/></a>"
      ]
    },
    {
      "cell_type": "code",
      "metadata": {
        "id": "QRs8s_bSoQcJ"
      },
      "source": [
        "import gensim\n",
        "from gensim import corpora\n",
        "from pprint import pprint\n",
        "import itertools as it"
      ],
      "execution_count": 20,
      "outputs": []
    },
    {
      "cell_type": "markdown",
      "metadata": {
        "id": "fhK0pHv7ocF9"
      },
      "source": [
        "#Gensim Introduction\n",
        "\n",
        "- Gensim requires every word to be mappeed to a unique id, to do this gensim creates a Dictionary object to map word to unique id\n",
        "- To achieve this, we have to convert text / sentences to [list of words] and pass it to the corpora.Dictionary() object\n",
        "- Dictionary is typically used to create 'Bag of Words' corpus\n",
        "- When text files are large, Gensim lets us to update the dictionary one line at a time without loading the entire text file into the memory\n",
        "\n",
        "- Dictionary is a map of all words to its unique id"
      ]
    },
    {
      "cell_type": "code",
      "metadata": {
        "id": "Ce3iblXQoUzw"
      },
      "source": [
        "documents = [\"The Saudis are preparing a report that will acknowledge that\", \n",
        "             \"Saudi journalist Jamal Khashoggi's death was the result of an\", \n",
        "             \"to his abduction from Turkey, according to two sources.\"]"
      ],
      "execution_count": 4,
      "outputs": []
    },
    {
      "cell_type": "markdown",
      "metadata": {
        "id": "9SdZQnxzoix1"
      },
      "source": [
        "###Breaking sentences to words"
      ]
    },
    {
      "cell_type": "code",
      "metadata": {
        "id": "Ch_paUF6ofXL"
      },
      "source": [
        "text = [ [text for text in doc.split()] for doc in documents]\n",
        "print(text)"
      ],
      "execution_count": null,
      "outputs": []
    },
    {
      "cell_type": "code",
      "metadata": {
        "id": "CdKvUdJFpGmv"
      },
      "source": [
        "#Breaks sentence in characters\n",
        "text1 = list(it.chain(documents[0]))\n",
        "text1"
      ],
      "execution_count": null,
      "outputs": []
    },
    {
      "cell_type": "markdown",
      "metadata": {
        "id": "pEF_C2Jfp7hR"
      },
      "source": [
        "###Creating Dictionary object using Corpora"
      ]
    },
    {
      "cell_type": "code",
      "metadata": {
        "id": "w6jycvr8p6ks",
        "outputId": "7cac3d56-4220-4df3-83de-1f06ff1b3ffe",
        "colab": {
          "base_uri": "https://localhost:8080/",
          "height": 35
        }
      },
      "source": [
        "dictionary = corpora.Dictionary(text)\n",
        "print(dictionary)"
      ],
      "execution_count": 21,
      "outputs": [
        {
          "output_type": "stream",
          "text": [
            "<gensim.corpora.dictionary.Dictionary object at 0x7fcf73d9bb38>\n"
          ],
          "name": "stdout"
        }
      ]
    },
    {
      "cell_type": "code",
      "metadata": {
        "id": "V8Pu2eHKqaQl"
      },
      "source": [
        "#Checking for token id and word\n",
        "print(dictionary.token2id)"
      ],
      "execution_count": null,
      "outputs": []
    },
    {
      "cell_type": "markdown",
      "metadata": {
        "id": "Vmc9F_7LqLWI"
      },
      "source": [
        "###Creating Bag of words using the dictionary, words are replaced with their ids"
      ]
    },
    {
      "cell_type": "code",
      "metadata": {
        "id": "_7wmBReVq4K8"
      },
      "source": [
        ""
      ],
      "execution_count": null,
      "outputs": []
    },
    {
      "cell_type": "code",
      "metadata": {
        "id": "140rF0XHq9Kv"
      },
      "source": [
        ""
      ],
      "execution_count": null,
      "outputs": []
    },
    {
      "cell_type": "markdown",
      "metadata": {
        "id": "UR9P20WRq9lv"
      },
      "source": [
        "###Extending dictionary object with new documents"
      ]
    },
    {
      "cell_type": "code",
      "metadata": {
        "id": "-S6cIocdrHlI"
      },
      "source": [
        "documents_2 = [\"The intersection graph of paths in trees\",\n",
        "               \"Graph minors IV Widths of trees and well quasi ordering\",\n",
        "               \"Graph minors A survey\"]"
      ],
      "execution_count": 24,
      "outputs": []
    },
    {
      "cell_type": "code",
      "metadata": {
        "id": "4ZVP3hVFrKgm"
      },
      "source": [
        "text2 = [[text for text in doc.split()] for doc in documents_2]"
      ],
      "execution_count": 25,
      "outputs": []
    },
    {
      "cell_type": "code",
      "metadata": {
        "id": "j1iPyaGWrSmH"
      },
      "source": [
        "dictionary.add_documents(text2)\n",
        "print(dictionary)"
      ],
      "execution_count": 26,
      "outputs": []
    },
    {
      "cell_type": "markdown",
      "metadata": {
        "id": "1UxVtQYsrewg"
      },
      "source": [
        ""
      ]
    }
  ]
}