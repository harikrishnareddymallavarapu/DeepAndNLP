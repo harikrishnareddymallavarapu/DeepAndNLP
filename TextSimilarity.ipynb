{
  "nbformat": 4,
  "nbformat_minor": 0,
  "metadata": {
    "colab": {
      "name": "TextSimilarity.ipynb",
      "provenance": [],
      "collapsed_sections": [],
      "authorship_tag": "ABX9TyNVFz9iqsX2TqgYzDGUtyo5",
      "include_colab_link": true
    },
    "kernelspec": {
      "name": "python3",
      "display_name": "Python 3"
    }
  },
  "cells": [
    {
      "cell_type": "markdown",
      "metadata": {
        "id": "view-in-github",
        "colab_type": "text"
      },
      "source": [
        "<a href=\"https://colab.research.google.com/github/harikrishnareddymallavarapu/DeepAndNLP/blob/master/TextSimilarity.ipynb\" target=\"_parent\"><img src=\"https://colab.research.google.com/assets/colab-badge.svg\" alt=\"Open In Colab\"/></a>"
      ]
    },
    {
      "cell_type": "code",
      "metadata": {
        "id": "1iaazUBj-XUU",
        "colab_type": "code",
        "colab": {}
      },
      "source": [
        "#"
      ],
      "execution_count": 0,
      "outputs": []
    },
    {
      "cell_type": "code",
      "metadata": {
        "id": "wdEkRxw-69RP",
        "colab_type": "code",
        "colab": {}
      },
      "source": [
        "#importing required packages\n",
        "import nltk\n",
        "from genism import word2vec \n",
        "from genism import doc2vec\n",
        "import numpy as np\n",
        "import pandas as pd\n",
        "import matplotlib.pyplot as plt"
      ],
      "execution_count": 0,
      "outputs": []
    },
    {
      "cell_type": "code",
      "metadata": {
        "id": "oPEgenzB7X2E",
        "colab_type": "code",
        "colab": {}
      },
      "source": [
        "#Some Random text\n",
        "text =[\"Wrongfully convicted man hopes for release as coronavirus hits US prisons\",\n",
        "       \"Lockdown protests erupt in US as new coronavirus hot spots emerge\",\n",
        "       \"Hundreds of villages locked down in northeastern China after fresh coronavirus outbreak\"]"
      ],
      "execution_count": 0,
      "outputs": []
    },
    {
      "cell_type": "code",
      "metadata": {
        "id": "HvqPhQHd9_RE",
        "colab_type": "code",
        "colab": {}
      },
      "source": [
        "#Building one hot matrix"
      ],
      "execution_count": 0,
      "outputs": []
    },
    {
      "cell_type": "code",
      "metadata": {
        "id": "_IFQ_1y--Ggb",
        "colab_type": "code",
        "colab": {}
      },
      "source": [
        "#Building tf"
      ],
      "execution_count": 0,
      "outputs": []
    },
    {
      "cell_type": "code",
      "metadata": {
        "id": "YmJ7Lb_d-C2O",
        "colab_type": "code",
        "colab": {}
      },
      "source": [
        "#Building tf-idf"
      ],
      "execution_count": 0,
      "outputs": []
    },
    {
      "cell_type": "code",
      "metadata": {
        "id": "qFGgWPQO-IYc",
        "colab_type": "code",
        "colab": {}
      },
      "source": [
        "#Building PMI"
      ],
      "execution_count": 0,
      "outputs": []
    },
    {
      "cell_type": "code",
      "metadata": {
        "id": "oK0Mepk3-K2l",
        "colab_type": "code",
        "colab": {}
      },
      "source": [
        "#building x-skip-n-gram"
      ],
      "execution_count": 0,
      "outputs": []
    },
    {
      "cell_type": "code",
      "metadata": {
        "id": "8oZ2IoDZ-QtK",
        "colab_type": "code",
        "colab": {}
      },
      "source": [
        "#Building word2vec"
      ],
      "execution_count": 0,
      "outputs": []
    },
    {
      "cell_type": "code",
      "metadata": {
        "id": "jYRNgyVL-TbQ",
        "colab_type": "code",
        "colab": {}
      },
      "source": [
        "#Building doc2vec"
      ],
      "execution_count": 0,
      "outputs": []
    }
  ]
}